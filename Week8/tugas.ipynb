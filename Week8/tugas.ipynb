{
 "cells": [
  {
   "cell_type": "markdown",
   "metadata": {},
   "source": [
    "# **Tugas**"
   ]
  },
  {
   "cell_type": "markdown",
   "metadata": {},
   "source": [
    "* Lakukan Klasifikasi pada data MNIST dengan menggunakan model ANN\n",
    "* Anda diperbolehkan melakukan eksplorasi terhadap,\n",
    "    * Metode pra pengolahan\n",
    "    * Pemilihan fitur\n",
    "    * Arsitektur ANN\n",
    "    * Fungsi Aktivasi\n",
    "* ANN diimplementasikan dengan menggunakan tensorflow\n",
    "* DIKERJAKAN SECARA BERKELOMPOK\n",
    "* JELASKAN HASIL YANG ANDA DAPATKAN\n",
    "    * AKURASI\n",
    "    * CONFUSION MATRIX\n",
    "    * KONFIGURASI MODEL --> MULAI DARI PRA PENGOLAHAN SAMPAI ARSITEKTUR ANN"
   ]
  },
  {
   "cell_type": "code",
   "execution_count": null,
   "metadata": {
    "vscode": {
     "languageId": "plaintext"
    }
   },
   "outputs": [],
   "source": []
  }
 ],
 "metadata": {
  "language_info": {
   "name": "python"
  }
 },
 "nbformat": 4,
 "nbformat_minor": 2
}
